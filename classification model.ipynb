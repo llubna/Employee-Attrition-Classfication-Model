{
 "cells": [
  {
   "cell_type": "markdown",
   "id": "c3df8045",
   "metadata": {},
   "source": [
    " # <font color='A6290E'> Employee Classification model</font>"
   ]
  },
  {
   "cell_type": "markdown",
   "id": "ff04cc15",
   "metadata": {},
   "source": [
    "## 1. Imports"
   ]
  },
  {
   "cell_type": "code",
   "execution_count": 47,
   "id": "9dd38aa7",
   "metadata": {},
   "outputs": [],
   "source": [
    "import pandas as pd\n",
    "import numpy as np\n",
    "import seaborn as sns\n",
    "import matplotlib.pyplot as plt\n",
    "from pandas_profiling import ProfileReport\n",
    "# Sklearn classification imports\n",
    "from sklearn.datasets import make_classification\n",
    "from sklearn.metrics import classification_report\n",
    "from sklearn.model_selection import cross_val_score\n",
    "from sklearn.metrics import f1_score,roc_auc_score\n",
    "from sklearn.metrics import roc_curve\n",
    "import imblearn.over_sampling\n",
    "from sklearn.model_selection import RepeatedStratifiedKFold\n",
    "from sklearn.ensemble import RandomForestClassifier\n",
    "from sklearn.ensemble import RandomForestRegressor\n",
    "from sklearn.model_selection import cross_val_score\n",
    "from sklearn.model_selection import RepeatedKFold\n",
    "from sklearn.model_selection import train_test_split\n",
    "from sklearn.neighbors import KNeighborsClassifier\n",
    "from sklearn.metrics import accuracy_score\n",
    "from sklearn.linear_model import LogisticRegression\n",
    "from sklearn.metrics import confusion_matrix\n",
    "from sklearn.tree import DecisionTreeClassifier\n",
    "from sklearn.pipeline import Pipeline\n",
    "from sklearn.feature_selection import RFE\n",
    "from xgboost import XGBClassifier"
   ]
  },
  {
   "cell_type": "code",
   "execution_count": 11,
   "id": "6d2e8be6",
   "metadata": {},
   "outputs": [],
   "source": [
    "%matplotlib inline\n"
   ]
  },
  {
   "cell_type": "code",
   "execution_count": null,
   "id": "e8c0271f",
   "metadata": {},
   "outputs": [],
   "source": [
    "# pip install imblearn"
   ]
  },
  {
   "cell_type": "markdown",
   "id": "ef88cdc4",
   "metadata": {},
   "source": [
    "## 2. Exploratory data analysis"
   ]
  },
  {
   "cell_type": "code",
   "execution_count": 12,
   "id": "2e53d531",
   "metadata": {},
   "outputs": [],
   "source": [
    "#load dataset\n",
    "Data= pd.read_csv('WA_Fn-UseC_-HR-Employee-Attrition.csv')\n",
    "# prof = ProfileReport(Data)"
   ]
  },
  {
   "cell_type": "code",
   "execution_count": 4,
   "id": "18775b95",
   "metadata": {},
   "outputs": [],
   "source": [
    "#undarstand data\n",
    "# prof"
   ]
  },
  {
   "cell_type": "code",
   "execution_count": null,
   "id": "cdafcbbe",
   "metadata": {},
   "outputs": [],
   "source": [
    "Data.head()"
   ]
  },
  {
   "cell_type": "code",
   "execution_count": null,
   "id": "208bf15c",
   "metadata": {},
   "outputs": [],
   "source": [
    "Data.info()"
   ]
  },
  {
   "cell_type": "code",
   "execution_count": null,
   "id": "a242dea0",
   "metadata": {},
   "outputs": [],
   "source": [
    "Data.describe()"
   ]
  },
  {
   "cell_type": "code",
   "execution_count": null,
   "id": "7642a71d",
   "metadata": {},
   "outputs": [],
   "source": [
    "Data.nunique()"
   ]
  },
  {
   "cell_type": "code",
   "execution_count": null,
   "id": "4d33000e",
   "metadata": {},
   "outputs": [],
   "source": [
    "Data['Over18'].unique()"
   ]
  },
  {
   "cell_type": "code",
   "execution_count": null,
   "id": "8541b3a2",
   "metadata": {},
   "outputs": [],
   "source": [
    "#clean the data\n",
    "Data.isna().sum()"
   ]
  },
  {
   "cell_type": "code",
   "execution_count": null,
   "id": "221a7ffb",
   "metadata": {},
   "outputs": [],
   "source": [
    "Data['EducationField'].unique()"
   ]
  },
  {
   "cell_type": "code",
   "execution_count": 13,
   "id": "efa34381",
   "metadata": {},
   "outputs": [],
   "source": [
    "Data.Attrition = Data['Attrition'].map({'Yes': 1, 'No': 0})"
   ]
  },
  {
   "cell_type": "code",
   "execution_count": 14,
   "id": "741cf707",
   "metadata": {},
   "outputs": [],
   "source": [
    "##drop unwanted columns\n",
    "\n",
    "Data = Data.drop(columns=['EmployeeNumber','EmployeeCount','Over18','StandardHours','TotalWorkingYears','MonthlyIncome','PerformanceRating','YearsAtCompany','StockOptionLevel','JobRole'])\n",
    "Baseline_data = Data[['Age','Attrition', 'DailyRate',\n",
    "       'DistanceFromHome', 'Education', 'EnvironmentSatisfaction', 'HourlyRate',\n",
    "       'JobInvolvement', 'JobLevel', 'JobSatisfaction','MonthlyRate', 'NumCompaniesWorked',\n",
    "       'PercentSalaryHike',\n",
    "       'RelationshipSatisfaction', 'TrainingTimesLastYear', 'WorkLifeBalance',\n",
    "        'YearsInCurrentRole', 'YearsSinceLastPromotion','YearsWithCurrManager']]\n"
   ]
  },
  {
   "cell_type": "code",
   "execution_count": 73,
   "id": "919f4306",
   "metadata": {},
   "outputs": [
    {
     "data": {
      "text/html": [
       "<div>\n",
       "<style scoped>\n",
       "    .dataframe tbody tr th:only-of-type {\n",
       "        vertical-align: middle;\n",
       "    }\n",
       "\n",
       "    .dataframe tbody tr th {\n",
       "        vertical-align: top;\n",
       "    }\n",
       "\n",
       "    .dataframe thead th {\n",
       "        text-align: right;\n",
       "    }\n",
       "</style>\n",
       "<table border=\"1\" class=\"dataframe\">\n",
       "  <thead>\n",
       "    <tr style=\"text-align: right;\">\n",
       "      <th></th>\n",
       "      <th>Age</th>\n",
       "      <th>Attrition</th>\n",
       "      <th>DailyRate</th>\n",
       "      <th>DistanceFromHome</th>\n",
       "      <th>Education</th>\n",
       "      <th>EnvironmentSatisfaction</th>\n",
       "      <th>HourlyRate</th>\n",
       "      <th>JobInvolvement</th>\n",
       "      <th>JobLevel</th>\n",
       "      <th>JobSatisfaction</th>\n",
       "      <th>MonthlyRate</th>\n",
       "      <th>NumCompaniesWorked</th>\n",
       "      <th>PercentSalaryHike</th>\n",
       "      <th>RelationshipSatisfaction</th>\n",
       "      <th>TrainingTimesLastYear</th>\n",
       "      <th>WorkLifeBalance</th>\n",
       "      <th>YearsInCurrentRole</th>\n",
       "      <th>YearsSinceLastPromotion</th>\n",
       "      <th>YearsWithCurrManager</th>\n",
       "    </tr>\n",
       "  </thead>\n",
       "  <tbody>\n",
       "    <tr>\n",
       "      <th>0</th>\n",
       "      <td>41</td>\n",
       "      <td>1</td>\n",
       "      <td>1102</td>\n",
       "      <td>1</td>\n",
       "      <td>2</td>\n",
       "      <td>2</td>\n",
       "      <td>94</td>\n",
       "      <td>3</td>\n",
       "      <td>2</td>\n",
       "      <td>4</td>\n",
       "      <td>19479</td>\n",
       "      <td>8</td>\n",
       "      <td>11</td>\n",
       "      <td>1</td>\n",
       "      <td>0</td>\n",
       "      <td>1</td>\n",
       "      <td>4</td>\n",
       "      <td>0</td>\n",
       "      <td>5</td>\n",
       "    </tr>\n",
       "    <tr>\n",
       "      <th>1</th>\n",
       "      <td>49</td>\n",
       "      <td>0</td>\n",
       "      <td>279</td>\n",
       "      <td>8</td>\n",
       "      <td>1</td>\n",
       "      <td>3</td>\n",
       "      <td>61</td>\n",
       "      <td>2</td>\n",
       "      <td>2</td>\n",
       "      <td>2</td>\n",
       "      <td>24907</td>\n",
       "      <td>1</td>\n",
       "      <td>23</td>\n",
       "      <td>4</td>\n",
       "      <td>3</td>\n",
       "      <td>3</td>\n",
       "      <td>7</td>\n",
       "      <td>1</td>\n",
       "      <td>7</td>\n",
       "    </tr>\n",
       "    <tr>\n",
       "      <th>2</th>\n",
       "      <td>37</td>\n",
       "      <td>1</td>\n",
       "      <td>1373</td>\n",
       "      <td>2</td>\n",
       "      <td>2</td>\n",
       "      <td>4</td>\n",
       "      <td>92</td>\n",
       "      <td>2</td>\n",
       "      <td>1</td>\n",
       "      <td>3</td>\n",
       "      <td>2396</td>\n",
       "      <td>6</td>\n",
       "      <td>15</td>\n",
       "      <td>2</td>\n",
       "      <td>3</td>\n",
       "      <td>3</td>\n",
       "      <td>0</td>\n",
       "      <td>0</td>\n",
       "      <td>0</td>\n",
       "    </tr>\n",
       "    <tr>\n",
       "      <th>3</th>\n",
       "      <td>33</td>\n",
       "      <td>0</td>\n",
       "      <td>1392</td>\n",
       "      <td>3</td>\n",
       "      <td>4</td>\n",
       "      <td>4</td>\n",
       "      <td>56</td>\n",
       "      <td>3</td>\n",
       "      <td>1</td>\n",
       "      <td>3</td>\n",
       "      <td>23159</td>\n",
       "      <td>1</td>\n",
       "      <td>11</td>\n",
       "      <td>3</td>\n",
       "      <td>3</td>\n",
       "      <td>3</td>\n",
       "      <td>7</td>\n",
       "      <td>3</td>\n",
       "      <td>0</td>\n",
       "    </tr>\n",
       "    <tr>\n",
       "      <th>4</th>\n",
       "      <td>27</td>\n",
       "      <td>0</td>\n",
       "      <td>591</td>\n",
       "      <td>2</td>\n",
       "      <td>1</td>\n",
       "      <td>1</td>\n",
       "      <td>40</td>\n",
       "      <td>3</td>\n",
       "      <td>1</td>\n",
       "      <td>2</td>\n",
       "      <td>16632</td>\n",
       "      <td>9</td>\n",
       "      <td>12</td>\n",
       "      <td>4</td>\n",
       "      <td>3</td>\n",
       "      <td>3</td>\n",
       "      <td>2</td>\n",
       "      <td>2</td>\n",
       "      <td>2</td>\n",
       "    </tr>\n",
       "    <tr>\n",
       "      <th>...</th>\n",
       "      <td>...</td>\n",
       "      <td>...</td>\n",
       "      <td>...</td>\n",
       "      <td>...</td>\n",
       "      <td>...</td>\n",
       "      <td>...</td>\n",
       "      <td>...</td>\n",
       "      <td>...</td>\n",
       "      <td>...</td>\n",
       "      <td>...</td>\n",
       "      <td>...</td>\n",
       "      <td>...</td>\n",
       "      <td>...</td>\n",
       "      <td>...</td>\n",
       "      <td>...</td>\n",
       "      <td>...</td>\n",
       "      <td>...</td>\n",
       "      <td>...</td>\n",
       "      <td>...</td>\n",
       "    </tr>\n",
       "    <tr>\n",
       "      <th>1465</th>\n",
       "      <td>36</td>\n",
       "      <td>0</td>\n",
       "      <td>884</td>\n",
       "      <td>23</td>\n",
       "      <td>2</td>\n",
       "      <td>3</td>\n",
       "      <td>41</td>\n",
       "      <td>4</td>\n",
       "      <td>2</td>\n",
       "      <td>4</td>\n",
       "      <td>12290</td>\n",
       "      <td>4</td>\n",
       "      <td>17</td>\n",
       "      <td>3</td>\n",
       "      <td>3</td>\n",
       "      <td>3</td>\n",
       "      <td>2</td>\n",
       "      <td>0</td>\n",
       "      <td>3</td>\n",
       "    </tr>\n",
       "    <tr>\n",
       "      <th>1466</th>\n",
       "      <td>39</td>\n",
       "      <td>0</td>\n",
       "      <td>613</td>\n",
       "      <td>6</td>\n",
       "      <td>1</td>\n",
       "      <td>4</td>\n",
       "      <td>42</td>\n",
       "      <td>2</td>\n",
       "      <td>3</td>\n",
       "      <td>1</td>\n",
       "      <td>21457</td>\n",
       "      <td>4</td>\n",
       "      <td>15</td>\n",
       "      <td>1</td>\n",
       "      <td>5</td>\n",
       "      <td>3</td>\n",
       "      <td>7</td>\n",
       "      <td>1</td>\n",
       "      <td>7</td>\n",
       "    </tr>\n",
       "    <tr>\n",
       "      <th>1467</th>\n",
       "      <td>27</td>\n",
       "      <td>0</td>\n",
       "      <td>155</td>\n",
       "      <td>4</td>\n",
       "      <td>3</td>\n",
       "      <td>2</td>\n",
       "      <td>87</td>\n",
       "      <td>4</td>\n",
       "      <td>2</td>\n",
       "      <td>2</td>\n",
       "      <td>5174</td>\n",
       "      <td>1</td>\n",
       "      <td>20</td>\n",
       "      <td>2</td>\n",
       "      <td>0</td>\n",
       "      <td>3</td>\n",
       "      <td>2</td>\n",
       "      <td>0</td>\n",
       "      <td>3</td>\n",
       "    </tr>\n",
       "    <tr>\n",
       "      <th>1468</th>\n",
       "      <td>49</td>\n",
       "      <td>0</td>\n",
       "      <td>1023</td>\n",
       "      <td>2</td>\n",
       "      <td>3</td>\n",
       "      <td>4</td>\n",
       "      <td>63</td>\n",
       "      <td>2</td>\n",
       "      <td>2</td>\n",
       "      <td>2</td>\n",
       "      <td>13243</td>\n",
       "      <td>2</td>\n",
       "      <td>14</td>\n",
       "      <td>4</td>\n",
       "      <td>3</td>\n",
       "      <td>2</td>\n",
       "      <td>6</td>\n",
       "      <td>0</td>\n",
       "      <td>8</td>\n",
       "    </tr>\n",
       "    <tr>\n",
       "      <th>1469</th>\n",
       "      <td>34</td>\n",
       "      <td>0</td>\n",
       "      <td>628</td>\n",
       "      <td>8</td>\n",
       "      <td>3</td>\n",
       "      <td>2</td>\n",
       "      <td>82</td>\n",
       "      <td>4</td>\n",
       "      <td>2</td>\n",
       "      <td>3</td>\n",
       "      <td>10228</td>\n",
       "      <td>2</td>\n",
       "      <td>12</td>\n",
       "      <td>1</td>\n",
       "      <td>3</td>\n",
       "      <td>4</td>\n",
       "      <td>3</td>\n",
       "      <td>1</td>\n",
       "      <td>2</td>\n",
       "    </tr>\n",
       "  </tbody>\n",
       "</table>\n",
       "<p>1470 rows × 19 columns</p>\n",
       "</div>"
      ],
      "text/plain": [
       "      Age  Attrition  DailyRate  DistanceFromHome  Education  \\\n",
       "0      41          1       1102                 1          2   \n",
       "1      49          0        279                 8          1   \n",
       "2      37          1       1373                 2          2   \n",
       "3      33          0       1392                 3          4   \n",
       "4      27          0        591                 2          1   \n",
       "...   ...        ...        ...               ...        ...   \n",
       "1465   36          0        884                23          2   \n",
       "1466   39          0        613                 6          1   \n",
       "1467   27          0        155                 4          3   \n",
       "1468   49          0       1023                 2          3   \n",
       "1469   34          0        628                 8          3   \n",
       "\n",
       "      EnvironmentSatisfaction  HourlyRate  JobInvolvement  JobLevel  \\\n",
       "0                           2          94               3         2   \n",
       "1                           3          61               2         2   \n",
       "2                           4          92               2         1   \n",
       "3                           4          56               3         1   \n",
       "4                           1          40               3         1   \n",
       "...                       ...         ...             ...       ...   \n",
       "1465                        3          41               4         2   \n",
       "1466                        4          42               2         3   \n",
       "1467                        2          87               4         2   \n",
       "1468                        4          63               2         2   \n",
       "1469                        2          82               4         2   \n",
       "\n",
       "      JobSatisfaction  MonthlyRate  NumCompaniesWorked  PercentSalaryHike  \\\n",
       "0                   4        19479                   8                 11   \n",
       "1                   2        24907                   1                 23   \n",
       "2                   3         2396                   6                 15   \n",
       "3                   3        23159                   1                 11   \n",
       "4                   2        16632                   9                 12   \n",
       "...               ...          ...                 ...                ...   \n",
       "1465                4        12290                   4                 17   \n",
       "1466                1        21457                   4                 15   \n",
       "1467                2         5174                   1                 20   \n",
       "1468                2        13243                   2                 14   \n",
       "1469                3        10228                   2                 12   \n",
       "\n",
       "      RelationshipSatisfaction  TrainingTimesLastYear  WorkLifeBalance  \\\n",
       "0                            1                      0                1   \n",
       "1                            4                      3                3   \n",
       "2                            2                      3                3   \n",
       "3                            3                      3                3   \n",
       "4                            4                      3                3   \n",
       "...                        ...                    ...              ...   \n",
       "1465                         3                      3                3   \n",
       "1466                         1                      5                3   \n",
       "1467                         2                      0                3   \n",
       "1468                         4                      3                2   \n",
       "1469                         1                      3                4   \n",
       "\n",
       "      YearsInCurrentRole  YearsSinceLastPromotion  YearsWithCurrManager  \n",
       "0                      4                        0                     5  \n",
       "1                      7                        1                     7  \n",
       "2                      0                        0                     0  \n",
       "3                      7                        3                     0  \n",
       "4                      2                        2                     2  \n",
       "...                  ...                      ...                   ...  \n",
       "1465                   2                        0                     3  \n",
       "1466                   7                        1                     7  \n",
       "1467                   2                        0                     3  \n",
       "1468                   6                        0                     8  \n",
       "1469                   3                        1                     2  \n",
       "\n",
       "[1470 rows x 19 columns]"
      ]
     },
     "execution_count": 73,
     "metadata": {},
     "output_type": "execute_result"
    }
   ],
   "source": [
    "Baseline_data"
   ]
  },
  {
   "cell_type": "code",
   "execution_count": null,
   "id": "2befdfed",
   "metadata": {},
   "outputs": [],
   "source": [
    "#analyz the relationship \n",
    "corlation = Data.corr()\n"
   ]
  },
  {
   "cell_type": "code",
   "execution_count": null,
   "id": "7543c71d",
   "metadata": {},
   "outputs": [],
   "source": [
    "sns.heatmap(corlation,xticklabels=corlation.columns,yticklabels=corlation.columns,annot=True)\n",
    "plt.gcf().set_size_inches(20, 15)"
   ]
  },
  {
   "cell_type": "code",
   "execution_count": null,
   "id": "597e6bf4",
   "metadata": {},
   "outputs": [],
   "source": [
    "sns.pairplot(Data)"
   ]
  },
  {
   "cell_type": "code",
   "execution_count": null,
   "id": "4cdc2819",
   "metadata": {},
   "outputs": [],
   "source": [
    "# sns.relplot(X = 'JobSatisfaction',Y = 'JobRole',hue='Gender' ,data=Data)\n",
    "# sns.distplot(Data['Gender'])"
   ]
  },
  {
   "cell_type": "code",
   "execution_count": 7,
   "id": "2202eaa6",
   "metadata": {},
   "outputs": [
    {
     "data": {
      "text/plain": [
       "<AxesSubplot:>"
      ]
     },
     "execution_count": 7,
     "metadata": {},
     "output_type": "execute_result"
    },
    {
     "data": {
      "image/png": "[encoded data removed]",
      "text/plain": [
       "<Figure size 432x288 with 1 Axes>"
      ]
     },
     "metadata": {
      "needs_background": "light"
     },
     "output_type": "display_data"
    }
   ],
   "source": [
    "Data['Attrition'].hist()"
   ]
  },
  {
   "cell_type": "code",
   "execution_count": 16,
   "id": "ebdf97ea",
   "metadata": {},
   "outputs": [
    {
     "data": {
      "text/html": [
       "<div>\n",
       "<style scoped>\n",
       "    .dataframe tbody tr th:only-of-type {\n",
       "        vertical-align: middle;\n",
       "    }\n",
       "\n",
       "    .dataframe tbody tr th {\n",
       "        vertical-align: top;\n",
       "    }\n",
       "\n",
       "    .dataframe thead th {\n",
       "        text-align: right;\n",
       "    }\n",
       "</style>\n",
       "<table border=\"1\" class=\"dataframe\">\n",
       "  <thead>\n",
       "    <tr style=\"text-align: right;\">\n",
       "      <th></th>\n",
       "      <th>Age</th>\n",
       "      <th>Attrition</th>\n",
       "      <th>DailyRate</th>\n",
       "      <th>DistanceFromHome</th>\n",
       "      <th>Education</th>\n",
       "      <th>EnvironmentSatisfaction</th>\n",
       "      <th>HourlyRate</th>\n",
       "      <th>JobInvolvement</th>\n",
       "      <th>JobLevel</th>\n",
       "      <th>JobSatisfaction</th>\n",
       "      <th>MonthlyRate</th>\n",
       "      <th>NumCompaniesWorked</th>\n",
       "      <th>PercentSalaryHike</th>\n",
       "      <th>RelationshipSatisfaction</th>\n",
       "      <th>TrainingTimesLastYear</th>\n",
       "      <th>WorkLifeBalance</th>\n",
       "      <th>YearsInCurrentRole</th>\n",
       "      <th>YearsSinceLastPromotion</th>\n",
       "      <th>YearsWithCurrManager</th>\n",
       "    </tr>\n",
       "  </thead>\n",
       "  <tbody>\n",
       "    <tr>\n",
       "      <th>0</th>\n",
       "      <td>41</td>\n",
       "      <td>1</td>\n",
       "      <td>1102</td>\n",
       "      <td>1</td>\n",
       "      <td>2</td>\n",
       "      <td>2</td>\n",
       "      <td>94</td>\n",
       "      <td>3</td>\n",
       "      <td>2</td>\n",
       "      <td>4</td>\n",
       "      <td>19479</td>\n",
       "      <td>8</td>\n",
       "      <td>11</td>\n",
       "      <td>1</td>\n",
       "      <td>0</td>\n",
       "      <td>1</td>\n",
       "      <td>4</td>\n",
       "      <td>0</td>\n",
       "      <td>5</td>\n",
       "    </tr>\n",
       "    <tr>\n",
       "      <th>1</th>\n",
       "      <td>49</td>\n",
       "      <td>0</td>\n",
       "      <td>279</td>\n",
       "      <td>8</td>\n",
       "      <td>1</td>\n",
       "      <td>3</td>\n",
       "      <td>61</td>\n",
       "      <td>2</td>\n",
       "      <td>2</td>\n",
       "      <td>2</td>\n",
       "      <td>24907</td>\n",
       "      <td>1</td>\n",
       "      <td>23</td>\n",
       "      <td>4</td>\n",
       "      <td>3</td>\n",
       "      <td>3</td>\n",
       "      <td>7</td>\n",
       "      <td>1</td>\n",
       "      <td>7</td>\n",
       "    </tr>\n",
       "    <tr>\n",
       "      <th>2</th>\n",
       "      <td>37</td>\n",
       "      <td>1</td>\n",
       "      <td>1373</td>\n",
       "      <td>2</td>\n",
       "      <td>2</td>\n",
       "      <td>4</td>\n",
       "      <td>92</td>\n",
       "      <td>2</td>\n",
       "      <td>1</td>\n",
       "      <td>3</td>\n",
       "      <td>2396</td>\n",
       "      <td>6</td>\n",
       "      <td>15</td>\n",
       "      <td>2</td>\n",
       "      <td>3</td>\n",
       "      <td>3</td>\n",
       "      <td>0</td>\n",
       "      <td>0</td>\n",
       "      <td>0</td>\n",
       "    </tr>\n",
       "    <tr>\n",
       "      <th>3</th>\n",
       "      <td>33</td>\n",
       "      <td>0</td>\n",
       "      <td>1392</td>\n",
       "      <td>3</td>\n",
       "      <td>4</td>\n",
       "      <td>4</td>\n",
       "      <td>56</td>\n",
       "      <td>3</td>\n",
       "      <td>1</td>\n",
       "      <td>3</td>\n",
       "      <td>23159</td>\n",
       "      <td>1</td>\n",
       "      <td>11</td>\n",
       "      <td>3</td>\n",
       "      <td>3</td>\n",
       "      <td>3</td>\n",
       "      <td>7</td>\n",
       "      <td>3</td>\n",
       "      <td>0</td>\n",
       "    </tr>\n",
       "    <tr>\n",
       "      <th>4</th>\n",
       "      <td>27</td>\n",
       "      <td>0</td>\n",
       "      <td>591</td>\n",
       "      <td>2</td>\n",
       "      <td>1</td>\n",
       "      <td>1</td>\n",
       "      <td>40</td>\n",
       "      <td>3</td>\n",
       "      <td>1</td>\n",
       "      <td>2</td>\n",
       "      <td>16632</td>\n",
       "      <td>9</td>\n",
       "      <td>12</td>\n",
       "      <td>4</td>\n",
       "      <td>3</td>\n",
       "      <td>3</td>\n",
       "      <td>2</td>\n",
       "      <td>2</td>\n",
       "      <td>2</td>\n",
       "    </tr>\n",
       "    <tr>\n",
       "      <th>...</th>\n",
       "      <td>...</td>\n",
       "      <td>...</td>\n",
       "      <td>...</td>\n",
       "      <td>...</td>\n",
       "      <td>...</td>\n",
       "      <td>...</td>\n",
       "      <td>...</td>\n",
       "      <td>...</td>\n",
       "      <td>...</td>\n",
       "      <td>...</td>\n",
       "      <td>...</td>\n",
       "      <td>...</td>\n",
       "      <td>...</td>\n",
       "      <td>...</td>\n",
       "      <td>...</td>\n",
       "      <td>...</td>\n",
       "      <td>...</td>\n",
       "      <td>...</td>\n",
       "      <td>...</td>\n",
       "    </tr>\n",
       "    <tr>\n",
       "      <th>1465</th>\n",
       "      <td>36</td>\n",
       "      <td>0</td>\n",
       "      <td>884</td>\n",
       "      <td>23</td>\n",
       "      <td>2</td>\n",
       "      <td>3</td>\n",
       "      <td>41</td>\n",
       "      <td>4</td>\n",
       "      <td>2</td>\n",
       "      <td>4</td>\n",
       "      <td>12290</td>\n",
       "      <td>4</td>\n",
       "      <td>17</td>\n",
       "      <td>3</td>\n",
       "      <td>3</td>\n",
       "      <td>3</td>\n",
       "      <td>2</td>\n",
       "      <td>0</td>\n",
       "      <td>3</td>\n",
       "    </tr>\n",
       "    <tr>\n",
       "      <th>1466</th>\n",
       "      <td>39</td>\n",
       "      <td>0</td>\n",
       "      <td>613</td>\n",
       "      <td>6</td>\n",
       "      <td>1</td>\n",
       "      <td>4</td>\n",
       "      <td>42</td>\n",
       "      <td>2</td>\n",
       "      <td>3</td>\n",
       "      <td>1</td>\n",
       "      <td>21457</td>\n",
       "      <td>4</td>\n",
       "      <td>15</td>\n",
       "      <td>1</td>\n",
       "      <td>5</td>\n",
       "      <td>3</td>\n",
       "      <td>7</td>\n",
       "      <td>1</td>\n",
       "      <td>7</td>\n",
       "    </tr>\n",
       "    <tr>\n",
       "      <th>1467</th>\n",
       "      <td>27</td>\n",
       "      <td>0</td>\n",
       "      <td>155</td>\n",
       "      <td>4</td>\n",
       "      <td>3</td>\n",
       "      <td>2</td>\n",
       "      <td>87</td>\n",
       "      <td>4</td>\n",
       "      <td>2</td>\n",
       "      <td>2</td>\n",
       "      <td>5174</td>\n",
       "      <td>1</td>\n",
       "      <td>20</td>\n",
       "      <td>2</td>\n",
       "      <td>0</td>\n",
       "      <td>3</td>\n",
       "      <td>2</td>\n",
       "      <td>0</td>\n",
       "      <td>3</td>\n",
       "    </tr>\n",
       "    <tr>\n",
       "      <th>1468</th>\n",
       "      <td>49</td>\n",
       "      <td>0</td>\n",
       "      <td>1023</td>\n",
       "      <td>2</td>\n",
       "      <td>3</td>\n",
       "      <td>4</td>\n",
       "      <td>63</td>\n",
       "      <td>2</td>\n",
       "      <td>2</td>\n",
       "      <td>2</td>\n",
       "      <td>13243</td>\n",
       "      <td>2</td>\n",
       "      <td>14</td>\n",
       "      <td>4</td>\n",
       "      <td>3</td>\n",
       "      <td>2</td>\n",
       "      <td>6</td>\n",
       "      <td>0</td>\n",
       "      <td>8</td>\n",
       "    </tr>\n",
       "    <tr>\n",
       "      <th>1469</th>\n",
       "      <td>34</td>\n",
       "      <td>0</td>\n",
       "      <td>628</td>\n",
       "      <td>8</td>\n",
       "      <td>3</td>\n",
       "      <td>2</td>\n",
       "      <td>82</td>\n",
       "      <td>4</td>\n",
       "      <td>2</td>\n",
       "      <td>3</td>\n",
       "      <td>10228</td>\n",
       "      <td>2</td>\n",
       "      <td>12</td>\n",
       "      <td>1</td>\n",
       "      <td>3</td>\n",
       "      <td>4</td>\n",
       "      <td>3</td>\n",
       "      <td>1</td>\n",
       "      <td>2</td>\n",
       "    </tr>\n",
       "  </tbody>\n",
       "</table>\n",
       "<p>1470 rows × 19 columns</p>\n",
       "</div>"
      ],
      "text/plain": [
       "      Age  Attrition  DailyRate  DistanceFromHome  Education  \\\n",
       "0      41          1       1102                 1          2   \n",
       "1      49          0        279                 8          1   \n",
       "2      37          1       1373                 2          2   \n",
       "3      33          0       1392                 3          4   \n",
       "4      27          0        591                 2          1   \n",
       "...   ...        ...        ...               ...        ...   \n",
       "1465   36          0        884                23          2   \n",
       "1466   39          0        613                 6          1   \n",
       "1467   27          0        155                 4          3   \n",
       "1468   49          0       1023                 2          3   \n",
       "1469   34          0        628                 8          3   \n",
       "\n",
       "      EnvironmentSatisfaction  HourlyRate  JobInvolvement  JobLevel  \\\n",
       "0                           2          94               3         2   \n",
       "1                           3          61               2         2   \n",
       "2                           4          92               2         1   \n",
       "3                           4          56               3         1   \n",
       "4                           1          40               3         1   \n",
       "...                       ...         ...             ...       ...   \n",
       "1465                        3          41               4         2   \n",
       "1466                        4          42               2         3   \n",
       "1467                        2          87               4         2   \n",
       "1468                        4          63               2         2   \n",
       "1469                        2          82               4         2   \n",
       "\n",
       "      JobSatisfaction  MonthlyRate  NumCompaniesWorked  PercentSalaryHike  \\\n",
       "0                   4        19479                   8                 11   \n",
       "1                   2        24907                   1                 23   \n",
       "2                   3         2396                   6                 15   \n",
       "3                   3        23159                   1                 11   \n",
       "4                   2        16632                   9                 12   \n",
       "...               ...          ...                 ...                ...   \n",
       "1465                4        12290                   4                 17   \n",
       "1466                1        21457                   4                 15   \n",
       "1467                2         5174                   1                 20   \n",
       "1468                2        13243                   2                 14   \n",
       "1469                3        10228                   2                 12   \n",
       "\n",
       "      RelationshipSatisfaction  TrainingTimesLastYear  WorkLifeBalance  \\\n",
       "0                            1                      0                1   \n",
       "1                            4                      3                3   \n",
       "2                            2                      3                3   \n",
       "3                            3                      3                3   \n",
       "4                            4                      3                3   \n",
       "...                        ...                    ...              ...   \n",
       "1465                         3                      3                3   \n",
       "1466                         1                      5                3   \n",
       "1467                         2                      0                3   \n",
       "1468                         4                      3                2   \n",
       "1469                         1                      3                4   \n",
       "\n",
       "      YearsInCurrentRole  YearsSinceLastPromotion  YearsWithCurrManager  \n",
       "0                      4                        0                     5  \n",
       "1                      7                        1                     7  \n",
       "2                      0                        0                     0  \n",
       "3                      7                        3                     0  \n",
       "4                      2                        2                     2  \n",
       "...                  ...                      ...                   ...  \n",
       "1465                   2                        0                     3  \n",
       "1466                   7                        1                     7  \n",
       "1467                   2                        0                     3  \n",
       "1468                   6                        0                     8  \n",
       "1469                   3                        1                     2  \n",
       "\n",
       "[1470 rows x 19 columns]"
      ]
     },
     "execution_count": 16,
     "metadata": {},
     "output_type": "execute_result"
    }
   ],
   "source": [
    "\n",
    "Baseline_data"
   ]
  },
  {
   "cell_type": "code",
   "execution_count": 17,
   "id": "4d8ba46d",
   "metadata": {},
   "outputs": [
    {
     "data": {
      "text/plain": [
       "0       1\n",
       "1       0\n",
       "2       1\n",
       "3       0\n",
       "4       0\n",
       "       ..\n",
       "1465    0\n",
       "1466    0\n",
       "1467    0\n",
       "1468    0\n",
       "1469    0\n",
       "Name: Attrition, Length: 1470, dtype: int64"
      ]
     },
     "execution_count": 17,
     "metadata": {},
     "output_type": "execute_result"
    }
   ],
   "source": [
    "Data['Attrition']"
   ]
  },
  {
   "cell_type": "markdown",
   "id": "19a2882f",
   "metadata": {},
   "source": [
    "\n",
    "## 3. Models\n",
    "\n",
    "### A. Baseline model (KNN and Logistic Regression )"
   ]
  },
  {
   "cell_type": "code",
   "execution_count": 15,
   "id": "642ac39f",
   "metadata": {},
   "outputs": [],
   "source": [
    "# #Split data to 60% Training set and 20% Valid set 20% Teset set\n",
    "# def split_data(df_x, df_y): \n",
    "#     #Split to 80% Training set and 20% Teset set\n",
    "#     X_train, X_test, y_train, y_test = train_test_split(df_x, df_y, test_size= 0.2, random_state=42)\n",
    "#     #Split to 75% Training set and 25% Teset set\n",
    "#     X_train, X_valid, y_train, y_valid = train_test_split(X_train, y_train, test_size= 0.25, random_state=42)\n",
    "#     return X_train, y_train, X_valid, y_valid, X_test, y_test\n",
    "\n",
    "X_train_Base, X_test_Base, y_train_Base, y_test_Base = train_test_split(Baseline_data, Data['Attrition'], test_size=0.25, random_state=42)"
   ]
  },
  {
   "cell_type": "code",
   "execution_count": 16,
   "id": "c0b79fb6",
   "metadata": {},
   "outputs": [
    {
     "name": "stdout",
     "output_type": "stream",
     "text": [
      "Training score : 0.83\n",
      "Test score : 0.86 \n"
     ]
    }
   ],
   "source": [
    "# knn beasline model1\n",
    "# Train on training set, and Test on testing set\n",
    "knn = KNeighborsClassifier(n_neighbors=9)\n",
    "knn.fit(X_train_Base, y_train_Base)\n",
    "print(\"Training score : {:.2f}\".format(knn.score(X_train_Base, y_train_Base)))\n",
    "y_pred_knn = knn.predict(X_test_Base)\n",
    "print(\"Test score : {:.2f} \".format(accuracy_score(y_test_Base, y_pred_knn)))"
   ]
  },
  {
   "cell_type": "code",
   "execution_count": 17,
   "id": "7c529943",
   "metadata": {},
   "outputs": [
    {
     "name": "stdout",
     "output_type": "stream",
     "text": [
      "0.834013605442177\n",
      "              precision    recall  f1-score   support\n",
      "\n",
      "           0       0.87      0.98      0.92       320\n",
      "           1       0.00      0.00      0.00        48\n",
      "\n",
      "    accuracy                           0.86       368\n",
      "   macro avg       0.43      0.49      0.46       368\n",
      "weighted avg       0.75      0.86      0.80       368\n",
      "\n"
     ]
    }
   ],
   "source": [
    "\n",
    "scores = cross_val_score(knn,Baseline_data, Data['Attrition'], cv=10, scoring='accuracy')\n",
    "print(np.mean(scores))\n",
    "print(classification_report(y_test_Base, y_pred_knn))"
   ]
  },
  {
   "cell_type": "code",
   "execution_count": 48,
   "id": "7d1058df",
   "metadata": {},
   "outputs": [
    {
     "data": {
      "image/png": "[encoded data removed]",
      "text/plain": [
       "<Figure size 432x288 with 1 Axes>"
      ]
     },
     "metadata": {
      "needs_background": "light"
     },
     "output_type": "display_data"
    }
   ],
   "source": [
    "confusion_matrix= confusion_matrix(y_true = y_test_Base ,y_pred = y_pred_Base )\n",
    "\n",
    "plt.clf()\n",
    "\n",
    "# ax = figure.add_subplot(111)\n",
    "\n",
    "# ax.set_aspect(1)\n",
    "\n",
    "res = sns.heatmap(confusion_matrix.T, annot=True, fmt='.2f', cmap=\"YlGn\", cbar=False)\n",
    "\n",
    "# plt.savefig(\"crosstab_pandas.png\", bbox_inches='tight', dpi=100)\n",
    "plt.title(\"KNN Confusion Matrix\")\n",
    "plt.xlabel(\"Actual\")\n",
    "plt.ylabel(\"Predication\")\n",
    "plt.show()"
   ]
  },
  {
   "cell_type": "code",
   "execution_count": 18,
   "id": "f326b259",
   "metadata": {},
   "outputs": [
    {
     "name": "stderr",
     "output_type": "stream",
     "text": [
      "C:\\Users\\abdul\\anaconda3\\lib\\site-packages\\sklearn\\linear_model\\_logistic.py:763: ConvergenceWarning: lbfgs failed to converge (status=1):\n",
      "STOP: TOTAL NO. of ITERATIONS REACHED LIMIT.\n",
      "\n",
      "Increase the number of iterations (max_iter) or scale the data as shown in:\n",
      "    https://scikit-learn.org/stable/modules/preprocessing.html\n",
      "Please also refer to the documentation for alternative solver options:\n",
      "    https://scikit-learn.org/stable/modules/linear_model.html#logistic-regression\n",
      "  n_iter_i = _check_optimize_result(\n",
      "C:\\Users\\abdul\\anaconda3\\lib\\site-packages\\sklearn\\linear_model\\_logistic.py:763: ConvergenceWarning: lbfgs failed to converge (status=1):\n",
      "STOP: TOTAL NO. of ITERATIONS REACHED LIMIT.\n",
      "\n",
      "Increase the number of iterations (max_iter) or scale the data as shown in:\n",
      "    https://scikit-learn.org/stable/modules/preprocessing.html\n",
      "Please also refer to the documentation for alternative solver options:\n",
      "    https://scikit-learn.org/stable/modules/linear_model.html#logistic-regression\n",
      "  n_iter_i = _check_optimize_result(\n",
      "C:\\Users\\abdul\\anaconda3\\lib\\site-packages\\sklearn\\linear_model\\_logistic.py:763: ConvergenceWarning: lbfgs failed to converge (status=1):\n",
      "STOP: TOTAL NO. of ITERATIONS REACHED LIMIT.\n",
      "\n",
      "Increase the number of iterations (max_iter) or scale the data as shown in:\n",
      "    https://scikit-learn.org/stable/modules/preprocessing.html\n",
      "Please also refer to the documentation for alternative solver options:\n",
      "    https://scikit-learn.org/stable/modules/linear_model.html#logistic-regression\n",
      "  n_iter_i = _check_optimize_result(\n"
     ]
    },
    {
     "name": "stdout",
     "output_type": "stream",
     "text": [
      "Training score : 0.83\n"
     ]
    },
    {
     "name": "stderr",
     "output_type": "stream",
     "text": [
      "C:\\Users\\abdul\\anaconda3\\lib\\site-packages\\sklearn\\linear_model\\_logistic.py:763: ConvergenceWarning: lbfgs failed to converge (status=1):\n",
      "STOP: TOTAL NO. of ITERATIONS REACHED LIMIT.\n",
      "\n",
      "Increase the number of iterations (max_iter) or scale the data as shown in:\n",
      "    https://scikit-learn.org/stable/modules/preprocessing.html\n",
      "Please also refer to the documentation for alternative solver options:\n",
      "    https://scikit-learn.org/stable/modules/linear_model.html#logistic-regression\n",
      "  n_iter_i = _check_optimize_result(\n",
      "C:\\Users\\abdul\\anaconda3\\lib\\site-packages\\sklearn\\linear_model\\_logistic.py:763: ConvergenceWarning: lbfgs failed to converge (status=1):\n",
      "STOP: TOTAL NO. of ITERATIONS REACHED LIMIT.\n",
      "\n",
      "Increase the number of iterations (max_iter) or scale the data as shown in:\n",
      "    https://scikit-learn.org/stable/modules/preprocessing.html\n",
      "Please also refer to the documentation for alternative solver options:\n",
      "    https://scikit-learn.org/stable/modules/linear_model.html#logistic-regression\n",
      "  n_iter_i = _check_optimize_result(\n",
      "C:\\Users\\abdul\\anaconda3\\lib\\site-packages\\sklearn\\linear_model\\_logistic.py:763: ConvergenceWarning: lbfgs failed to converge (status=1):\n",
      "STOP: TOTAL NO. of ITERATIONS REACHED LIMIT.\n",
      "\n",
      "Increase the number of iterations (max_iter) or scale the data as shown in:\n",
      "    https://scikit-learn.org/stable/modules/preprocessing.html\n",
      "Please also refer to the documentation for alternative solver options:\n",
      "    https://scikit-learn.org/stable/modules/linear_model.html#logistic-regression\n",
      "  n_iter_i = _check_optimize_result(\n",
      "C:\\Users\\abdul\\anaconda3\\lib\\site-packages\\sklearn\\linear_model\\_logistic.py:763: ConvergenceWarning: lbfgs failed to converge (status=1):\n",
      "STOP: TOTAL NO. of ITERATIONS REACHED LIMIT.\n",
      "\n",
      "Increase the number of iterations (max_iter) or scale the data as shown in:\n",
      "    https://scikit-learn.org/stable/modules/preprocessing.html\n",
      "Please also refer to the documentation for alternative solver options:\n",
      "    https://scikit-learn.org/stable/modules/linear_model.html#logistic-regression\n",
      "  n_iter_i = _check_optimize_result(\n",
      "C:\\Users\\abdul\\anaconda3\\lib\\site-packages\\sklearn\\linear_model\\_logistic.py:763: ConvergenceWarning: lbfgs failed to converge (status=1):\n",
      "STOP: TOTAL NO. of ITERATIONS REACHED LIMIT.\n",
      "\n",
      "Increase the number of iterations (max_iter) or scale the data as shown in:\n",
      "    https://scikit-learn.org/stable/modules/preprocessing.html\n",
      "Please also refer to the documentation for alternative solver options:\n",
      "    https://scikit-learn.org/stable/modules/linear_model.html#logistic-regression\n",
      "  n_iter_i = _check_optimize_result(\n",
      "C:\\Users\\abdul\\anaconda3\\lib\\site-packages\\sklearn\\linear_model\\_logistic.py:763: ConvergenceWarning: lbfgs failed to converge (status=1):\n",
      "STOP: TOTAL NO. of ITERATIONS REACHED LIMIT.\n",
      "\n",
      "Increase the number of iterations (max_iter) or scale the data as shown in:\n",
      "    https://scikit-learn.org/stable/modules/preprocessing.html\n",
      "Please also refer to the documentation for alternative solver options:\n",
      "    https://scikit-learn.org/stable/modules/linear_model.html#logistic-regression\n",
      "  n_iter_i = _check_optimize_result(\n"
     ]
    },
    {
     "name": "stdout",
     "output_type": "stream",
     "text": [
      "0.8489795918367345\n"
     ]
    },
    {
     "name": "stderr",
     "output_type": "stream",
     "text": [
      "C:\\Users\\abdul\\anaconda3\\lib\\site-packages\\sklearn\\linear_model\\_logistic.py:763: ConvergenceWarning: lbfgs failed to converge (status=1):\n",
      "STOP: TOTAL NO. of ITERATIONS REACHED LIMIT.\n",
      "\n",
      "Increase the number of iterations (max_iter) or scale the data as shown in:\n",
      "    https://scikit-learn.org/stable/modules/preprocessing.html\n",
      "Please also refer to the documentation for alternative solver options:\n",
      "    https://scikit-learn.org/stable/modules/linear_model.html#logistic-regression\n",
      "  n_iter_i = _check_optimize_result(\n",
      "C:\\Users\\abdul\\anaconda3\\lib\\site-packages\\sklearn\\linear_model\\_logistic.py:763: ConvergenceWarning: lbfgs failed to converge (status=1):\n",
      "STOP: TOTAL NO. of ITERATIONS REACHED LIMIT.\n",
      "\n",
      "Increase the number of iterations (max_iter) or scale the data as shown in:\n",
      "    https://scikit-learn.org/stable/modules/preprocessing.html\n",
      "Please also refer to the documentation for alternative solver options:\n",
      "    https://scikit-learn.org/stable/modules/linear_model.html#logistic-regression\n",
      "  n_iter_i = _check_optimize_result(\n"
     ]
    }
   ],
   "source": [
    "# Logistic Regression beasline model2\n",
    "#X_train, X_test, y_train, y_test = train_test_split(X, y, test_size=0.3, random_state=0)\n",
    "logreg = LogisticRegression()\n",
    "logreg.fit(X_train_Base, y_train_Base)\n",
    "print(\"Training score : {:.2f}\".format(logreg.score(X_train_Base, y_train_Base)))\n",
    "scores = cross_val_score(logreg,Baseline_data, Baseline_data['Attrition'], cv=10, scoring='accuracy')\n",
    "print(np.mean(scores))"
   ]
  },
  {
   "cell_type": "code",
   "execution_count": 19,
   "id": "01ed2ea0",
   "metadata": {},
   "outputs": [
    {
     "name": "stdout",
     "output_type": "stream",
     "text": [
      "Accuracy of logistic regression classifier on test set: 0.87\n"
     ]
    }
   ],
   "source": [
    "y_pred_Base = logreg.predict(X_test_Base)\n",
    "print('Accuracy of logistic regression classifier on test set: {:.2f}'.format(logreg.score(X_test_Base, y_test_Base)))"
   ]
  },
  {
   "cell_type": "code",
   "execution_count": 20,
   "id": "935e97fd",
   "metadata": {},
   "outputs": [
    {
     "name": "stdout",
     "output_type": "stream",
     "text": [
      "              precision    recall  f1-score   support\n",
      "\n",
      "           0       0.87      1.00      0.93       320\n",
      "           1       0.00      0.00      0.00        48\n",
      "\n",
      "    accuracy                           0.87       368\n",
      "   macro avg       0.43      0.50      0.47       368\n",
      "weighted avg       0.76      0.87      0.81       368\n",
      "\n"
     ]
    },
    {
     "name": "stderr",
     "output_type": "stream",
     "text": [
      "C:\\Users\\abdul\\anaconda3\\lib\\site-packages\\sklearn\\metrics\\_classification.py:1245: UndefinedMetricWarning: Precision and F-score are ill-defined and being set to 0.0 in labels with no predicted samples. Use `zero_division` parameter to control this behavior.\n",
      "  _warn_prf(average, modifier, msg_start, len(result))\n",
      "C:\\Users\\abdul\\anaconda3\\lib\\site-packages\\sklearn\\metrics\\_classification.py:1245: UndefinedMetricWarning: Precision and F-score are ill-defined and being set to 0.0 in labels with no predicted samples. Use `zero_division` parameter to control this behavior.\n",
      "  _warn_prf(average, modifier, msg_start, len(result))\n",
      "C:\\Users\\abdul\\anaconda3\\lib\\site-packages\\sklearn\\metrics\\_classification.py:1245: UndefinedMetricWarning: Precision and F-score are ill-defined and being set to 0.0 in labels with no predicted samples. Use `zero_division` parameter to control this behavior.\n",
      "  _warn_prf(average, modifier, msg_start, len(result))\n"
     ]
    }
   ],
   "source": [
    "# report \n",
    "print(classification_report(y_test_Base, y_pred_Base))"
   ]
  },
  {
   "cell_type": "code",
   "execution_count": 45,
   "id": "e8640625",
   "metadata": {},
   "outputs": [
    {
     "data": {
      "image/png": "[encoded data removed]",
      "text/plain": [
       "<Figure size 432x288 with 1 Axes>"
      ]
     },
     "metadata": {
      "needs_background": "light"
     },
     "output_type": "display_data"
    }
   ],
   "source": [
    "confusion_matrix= confusion_matrix(y_true = y_test_Base ,y_pred = y_pred_Base )\n",
    "\n",
    "plt.clf()\n",
    "\n",
    "# ax = figure.add_subplot(111)\n",
    "\n",
    "# ax.set_aspect(1)\n",
    "\n",
    "res = sns.heatmap(confusion_matrix.T, annot=True, fmt='.2f', cmap=\"YlGn\", cbar=False)\n",
    "\n",
    "# plt.savefig(\"crosstab_pandas.png\", bbox_inches='tight', dpi=100)\n",
    "plt.title(\" Logistic Regression Confusion Matrix\")\n",
    "plt.xlabel(\"Actual\")\n",
    "plt.ylabel(\"Predication\")\n",
    "plt.show()"
   ]
  },
  {
   "cell_type": "markdown",
   "id": "27a696a3",
   "metadata": {},
   "source": [
    "### B. Class inbalancemnet"
   ]
  },
  {
   "cell_type": "code",
   "execution_count": 573,
   "id": "027c4412",
   "metadata": {
    "scrolled": true
   },
   "outputs": [
    {
     "data": {
      "text/plain": [
       "Text(0, 0.5, 'Value count')"
      ]
     },
     "execution_count": 573,
     "metadata": {},
     "output_type": "execute_result"
    },
    {
     "data": {
      "image/png": "[encoded data removed]",
      "text/plain": [
       "<Figure size 432x288 with 1 Axes>"
      ]
     },
     "metadata": {
      "needs_background": "light"
     },
     "output_type": "display_data"
    }
   ],
   "source": [
    "plt.hist(Data['Attrition'], color = \"green\")\n",
    "plt.title(\"Check Class inbalancemnet\")\n",
    "plt.xlabel('Attrition')\n",
    "plt.ylabel('Value count')\n",
    "# Data['Attrition'].hist(color:\"green\")"
   ]
  },
  {
   "cell_type": "code",
   "execution_count": 25,
   "id": "15fe4c62",
   "metadata": {},
   "outputs": [
    {
     "data": {
      "text/plain": [
       "0    1233\n",
       "1     237\n",
       "Name: Attrition, dtype: int64"
      ]
     },
     "execution_count": 25,
     "metadata": {},
     "output_type": "execute_result"
    }
   ],
   "source": [
    "Data['Attrition'].value_counts()"
   ]
  },
  {
   "cell_type": "markdown",
   "id": "de9133a6",
   "metadata": {},
   "source": [
    "### C. Logistic Regression with Downsampling and dummy varibles"
   ]
  },
  {
   "cell_type": "code",
   "execution_count": 51,
   "id": "c665ae2e",
   "metadata": {},
   "outputs": [],
   "source": [
    "def downsample(Data_1):\n",
    "    DownSample = imblearn.under_sampling.RandomUnderSampler()\n",
    "    X, y = DownSample.fit_resample(Data_1.drop(['Attrition'], axis=1) , Data_1['Attrition'] ) \n",
    "\n",
    "    SampledData = pd.concat([X,y], axis=1)\n",
    "    return SampledData"
   ]
  },
  {
   "cell_type": "code",
   "execution_count": 53,
   "id": "aff3a7b0",
   "metadata": {},
   "outputs": [],
   "source": [
    "def BalanceLogreg(X_train, X_test, y_train, y_test):    \n",
    "    logreg = LogisticRegression(max_iter= 5000)\n",
    "    logreg.fit(X_train, y_train)\n",
    "    print(logreg.score(X_train, y_train))\n",
    "    scores = cross_val_score(logreg,Baseline_data, Data['Attrition'], cv=10, scoring='accuracy')\n",
    "    print(np.mean(scores))\n",
    "    y_pred = logreg.predict(X_test)\n",
    "    print('Accuracy of logistic regression classifier on test set: {:.2f}'.format(logreg.score(X_test, y_test)))\n",
    "    # report \n",
    "    print(classification_report(y_test, y_pred))"
   ]
  },
  {
   "cell_type": "code",
   "execution_count": 54,
   "id": "60332f83",
   "metadata": {},
   "outputs": [
    {
     "name": "stdout",
     "output_type": "stream",
     "text": [
      "0.6422535211267606\n",
      "1.0\n",
      "Accuracy of logistic regression classifier on test set: 0.64\n",
      "              precision    recall  f1-score   support\n",
      "\n",
      "           0       0.64      0.61      0.63        59\n",
      "           1       0.63      0.67      0.65        60\n",
      "\n",
      "    accuracy                           0.64       119\n",
      "   macro avg       0.64      0.64      0.64       119\n",
      "weighted avg       0.64      0.64      0.64       119\n",
      "\n"
     ]
    }
   ],
   "source": [
    "SampledData = downsample(Baseline_data)\n",
    "# SampledData.Attrition.drop_duplicates().T\n",
    "\n",
    "X_train1, X_test1, y_train1, y_test1 = train_test_split(SampledData.drop(columns='Attrition',axis=1), SampledData['Attrition'], test_size=0.25, random_state=42)\n",
    "BalanceLogreg(X_train1, X_test1, y_train1, y_test1)"
   ]
  },
  {
   "cell_type": "code",
   "execution_count": 55,
   "id": "b0ab0e5c",
   "metadata": {},
   "outputs": [
    {
     "name": "stdout",
     "output_type": "stream",
     "text": [
      "0.7774647887323943\n",
      "1.0\n",
      "Accuracy of logistic regression classifier on test set: 0.74\n",
      "              precision    recall  f1-score   support\n",
      "\n",
      "           0       0.73      0.75      0.74        59\n",
      "           1       0.75      0.73      0.74        60\n",
      "\n",
      "    accuracy                           0.74       119\n",
      "   macro avg       0.74      0.74      0.74       119\n",
      "weighted avg       0.74      0.74      0.74       119\n",
      "\n"
     ]
    }
   ],
   "source": [
    "Dummy_Data = pd.get_dummies(Data) \n",
    "# Dummy_Data\n",
    "Sampled_Dummy_Data = downsample(Dummy_Data)\n",
    "\n",
    "X_train2, X_test2, y_train2, y_test2 = train_test_split(Sampled_Dummy_Data.drop(columns='Attrition',axis=1), Sampled_Dummy_Data['Attrition'], test_size=0.25, random_state=42)\n",
    "BalanceLogreg(X_train2, X_test2, y_train2, y_test2)"
   ]
  },
  {
   "cell_type": "markdown",
   "id": "0d352fe6",
   "metadata": {},
   "source": [
    "### D. Decision Tree Model"
   ]
  },
  {
   "cell_type": "code",
   "execution_count": 702,
   "id": "c342949d",
   "metadata": {},
   "outputs": [
    {
     "name": "stdout",
     "output_type": "stream",
     "text": [
      "1.0\n",
      "Testing : 0.6722689075630253\n",
      "Accuracy : 0.614 (0.033)\n",
      "              precision    recall  f1-score   support\n",
      "\n",
      "           0       0.66      0.71      0.68        59\n",
      "           1       0.69      0.63      0.66        60\n",
      "\n",
      "    accuracy                           0.67       119\n",
      "   macro avg       0.67      0.67      0.67       119\n",
      "weighted avg       0.67      0.67      0.67       119\n",
      "\n"
     ]
    }
   ],
   "source": [
    "\n",
    "model_dt_a = DecisionTreeClassifier()\n",
    "model_dt_a.fit(X_train2, y_train2)\n",
    "print(model_dt_a.score(X_train2, y_train2))\n",
    "\n",
    "predictions_dt_a = model_dt_a.predict(X_test2)\n",
    "print(\"Testing :\", accuracy_score(y_test2, predictions_dt_a))\n",
    "\n",
    "cv = RepeatedKFold(n_splits=10, n_repeats=3, random_state=35)\n",
    "n_scores = cross_val_score(model_dt_a, Sampled_Dummy_Data.drop(columns='Attrition',axis=1), Sampled_Dummy_Data['Attrition'], scoring='accuracy')\n",
    "# report performance\n",
    "print('Accuracy : %.3f (%.3f)' % (np.mean(n_scores), np.std(n_scores)))\n",
    "print(classification_report(y_test2, predictions_dt_a))"
   ]
  },
  {
   "cell_type": "code",
   "execution_count": 755,
   "id": "d1413883",
   "metadata": {},
   "outputs": [],
   "source": [
    "\n",
    "# Build a decision tree model\n",
    "model_dt = DecisionTreeClassifier()\n",
    "# print(len(X_train1), len(y_train1))\n",
    "path = model_dt.cost_complexity_pruning_path(X_train2, y_train2)\n",
    "ccp_alphas, impurities = path.ccp_alphas, path.impurities\n"
   ]
  },
  {
   "cell_type": "code",
   "execution_count": 756,
   "id": "faa3a024",
   "metadata": {},
   "outputs": [
    {
     "data": {
      "text/plain": [
       "Text(0.5, 1.0, 'Total Impurity vs effective alpha for training set')"
      ]
     },
     "execution_count": 756,
     "metadata": {},
     "output_type": "execute_result"
    },
    {
     "data": {
      "image/png": "[encoded data removed]",
      "text/plain": [
       "<Figure size 432x288 with 1 Axes>"
      ]
     },
     "metadata": {
      "needs_background": "light"
     },
     "output_type": "display_data"
    }
   ],
   "source": [
    "fig, ax = plt.subplots()\n",
    "ax.plot(ccp_alphas[:-1], impurities[:-1], marker='o', drawstyle=\"steps-post\")\n",
    "ax.set_xlabel(\"effective alpha\")\n",
    "ax.set_ylabel(\"total impurity of leaves\")\n",
    "ax.set_title(\"Total Impurity vs effective alpha for training set\")\n"
   ]
  },
  {
   "cell_type": "code",
   "execution_count": 773,
   "id": "9a3d00aa",
   "metadata": {},
   "outputs": [
    {
     "name": "stdout",
     "output_type": "stream",
     "text": [
      "Accuracy : 0.606 (0.030)\n"
     ]
    }
   ],
   "source": [
    "model_dt = DecisionTreeClassifier(ccp_alpha = 0.011, max_features = 'log2')\n",
    "model_dt.fit(X_train2, y_train2)\n",
    "\n",
    "cv = RepeatedKFold(n_splits=10, n_repeats=3, random_state=35)\n",
    "n_scores = cross_val_score(model_dt, Sampled_Dummy_Data.drop(columns='Attrition',axis=1), Sampled_Dummy_Data['Attrition'], scoring='accuracy')\n",
    "# report performance\n",
    "print('Accuracy : %.3f (%.3f)' % (np.mean(n_scores), np.std(n_scores)))\n"
   ]
  },
  {
   "cell_type": "code",
   "execution_count": 774,
   "id": "6c347df7",
   "metadata": {},
   "outputs": [
    {
     "name": "stdout",
     "output_type": "stream",
     "text": [
      "0.752112676056338\n"
     ]
    }
   ],
   "source": [
    "\n",
    "print(model_dt.score(X_train2, y_train2))"
   ]
  },
  {
   "cell_type": "code",
   "execution_count": 775,
   "id": "a66472be",
   "metadata": {},
   "outputs": [
    {
     "name": "stdout",
     "output_type": "stream",
     "text": [
      "DecisionTreeClassifier 0.752112676056338\n"
     ]
    }
   ],
   "source": [
    "# Check the model performance with the training data\n",
    "predictions_dt = model_dt.predict(X_train2)\n",
    "print(\"DecisionTreeClassifier\", accuracy_score(y_train2, predictions_dt))"
   ]
  },
  {
   "cell_type": "code",
   "execution_count": 776,
   "id": "f2791687",
   "metadata": {},
   "outputs": [
    {
     "name": "stdout",
     "output_type": "stream",
     "text": [
      "Testing Score :  0.6638655462184874\n",
      "              precision    recall  f1-score   support\n",
      "\n",
      "           0       0.67      0.63      0.65        59\n",
      "           1       0.66      0.70      0.68        60\n",
      "\n",
      "    accuracy                           0.66       119\n",
      "   macro avg       0.66      0.66      0.66       119\n",
      "weighted avg       0.66      0.66      0.66       119\n",
      "\n"
     ]
    }
   ],
   "source": [
    "predictions_dt = model_dt.predict(X_test2)\n",
    "print(\"Testing Score : \", accuracy_score(y_test2, predictions_dt))\n",
    "print(classification_report(y_test2, predictions_dt))"
   ]
  },
  {
   "cell_type": "markdown",
   "id": "be166270",
   "metadata": {},
   "source": [
    "### E.  Random Forest Classifier Model"
   ]
  },
  {
   "cell_type": "code",
   "execution_count": 715,
   "id": "dda496dc",
   "metadata": {},
   "outputs": [
    {
     "name": "stdout",
     "output_type": "stream",
     "text": [
      "0.8394366197183099\n",
      "Accuracy : 0.745 (0.050)\n",
      "              precision    recall  f1-score   support\n",
      "\n",
      "           0       0.72      0.66      0.69        59\n",
      "           1       0.69      0.75      0.72        60\n",
      "\n",
      "    accuracy                           0.71       119\n",
      "   macro avg       0.71      0.71      0.71       119\n",
      "weighted avg       0.71      0.71      0.71       119\n",
      "\n"
     ]
    }
   ],
   "source": [
    "\n",
    "model_RFC = RandomForestClassifier(ccp_alpha=0.015)\n",
    "# fit the model on the whole dataset\n",
    "model_RFC.fit(X_train2, y_train2)\n",
    "print(model_RFC.score(X_train2, y_train2))\n",
    "# evaluate the model\n",
    "cv = RepeatedKFold(n_splits=10, n_repeats=3, random_state=35)\n",
    "n_scores = cross_val_score(model_RFC, Sampled_Dummy_Data.drop(columns='Attrition',axis=1), Sampled_Dummy_Data['Attrition'], scoring='accuracy')\n",
    "# report performance\n",
    "print('Accuracy : %.3f (%.3f)' % (np.mean(n_scores), np.std(n_scores)))\n",
    "y_pred_RFC = model_RFC.predict(X_test2)\n",
    "print(classification_report(y_test2, y_pred_RFC))\n",
    "# train, test = train_test_split(n_df, test_size=0.2)\n",
    "# train, val= train_test_split(train, test_size=0.25)\n",
    "# cv=CountVectorizer()\n",
    "# features=cv.fit_tranform(train)"
   ]
  },
  {
   "cell_type": "code",
   "execution_count": 716,
   "id": "f259083f",
   "metadata": {},
   "outputs": [
    {
     "name": "stdout",
     "output_type": "stream",
     "text": [
      "RandomForestClassifier 0.7058823529411765\n"
     ]
    }
   ],
   "source": [
    "predictions = model_RFC.predict(X_test2)\n",
    "print(\"RandomForestClassifier\", accuracy_score(y_test2, predictions))"
   ]
  },
  {
   "cell_type": "code",
   "execution_count": 539,
   "id": "5f1b8852",
   "metadata": {},
   "outputs": [
    {
     "name": "stdout",
     "output_type": "stream",
     "text": [
      "Accuracy: 0.577 (0.071)\n"
     ]
    }
   ],
   "source": [
    "rfe = RFE(estimator=RandomForestClassifier(), n_features_to_select=5)\n",
    "model_dt_rfe = RandomForestClassifier()\n",
    "pipeline = Pipeline(steps=[('s',rfe),('m',model_dt_rfe)])\n",
    "# evaluate model\n",
    "cv = RepeatedStratifiedKFold(n_splits=10, n_repeats=3, random_state=1)\n",
    "n_scores = cross_val_score(pipeline, SampledData.drop(columns='Attrition',axis=1), SampledData['Attrition'], scoring='accuracy', cv=cv, n_jobs=-1, error_score='raise')\n",
    "# report performance\n",
    "print('Accuracy: %.3f (%.3f)' % (np.mean(n_scores), np.std(n_scores)))"
   ]
  },
  {
   "cell_type": "markdown",
   "id": "6fe708ef",
   "metadata": {},
   "source": [
    "### F. xgboost"
   ]
  },
  {
   "cell_type": "code",
   "execution_count": 542,
   "id": "c681be26",
   "metadata": {},
   "outputs": [
    {
     "name": "stderr",
     "output_type": "stream",
     "text": [
      "C:\\Users\\abdul\\anaconda3\\lib\\site-packages\\xgboost\\sklearn.py:1146: UserWarning: The use of label encoder in XGBClassifier is deprecated and will be removed in a future release. To remove this warning, do the following: 1) Pass option use_label_encoder=False when constructing XGBClassifier object; and 2) Encode your labels (y) as integers starting with 0, i.e. 0, 1, 2, ..., [num_class - 1].\n",
      "  warnings.warn(label_encoder_deprecation_msg, UserWarning)\n"
     ]
    },
    {
     "name": "stdout",
     "output_type": "stream",
     "text": [
      "[01:40:44] WARNING: C:/Users/Administrator/workspace/xgboost-win64_release_1.4.0/src/learner.cc:1095: Starting in XGBoost 1.3.0, the default evaluation metric used with the objective 'binary:logistic' was changed from 'error' to 'logloss'. Explicitly set eval_metric if you'd like to restore the old behavior.\n",
      "1.0\n",
      "Test :  0.6890756302521008\n"
     ]
    }
   ],
   "source": [
    "# xgboost\n",
    "model_XGB = XGBClassifier()\n",
    "model_XGB.fit(X_train2, y_train2)\n",
    "print(model_XGB.score(X_train2, y_train2))\n",
    "\n",
    "predictions_XGB = model_XGB.predict(X_test2)\n",
    "print(\"Test : \", accuracy_score(y_test2, predictions_XGB))"
   ]
  },
  {
   "cell_type": "code",
   "execution_count": 543,
   "id": "c296742a",
   "metadata": {},
   "outputs": [
    {
     "name": "stdout",
     "output_type": "stream",
     "text": [
      "Accuracy: 0.69\n"
     ]
    }
   ],
   "source": [
    "y_pred = model_XGB.predict(X_test2)\n",
    "predictions = [value for value in y_pred]\n",
    "accuracy = accuracy_score(y_test2, predictions)\n",
    "print(\"Accuracy: %.2f\" % (accuracy ))"
   ]
  },
  {
   "cell_type": "code",
   "execution_count": null,
   "id": "05696433",
   "metadata": {},
   "outputs": [],
   "source": [
    "# naive Bayes"
   ]
  },
  {
   "cell_type": "code",
   "execution_count": null,
   "id": "d8129c86",
   "metadata": {},
   "outputs": [],
   "source": []
  }
 ],
 "metadata": {
  "kernelspec": {
   "display_name": "Python 3",
   "language": "python",
   "name": "python3"
  },
  "language_info": {
   "codemirror_mode": {
    "name": "ipython",
    "version": 3
   },
   "file_extension": ".py",
   "mimetype": "text/x-python",
   "name": "python",
   "nbconvert_exporter": "python",
   "pygments_lexer": "ipython3",
   "version": "3.8.8"
  }
 },
 "nbformat": 4,
 "nbformat_minor": 5
}
